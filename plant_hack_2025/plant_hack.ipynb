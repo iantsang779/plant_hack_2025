{
 "cells": [
  {
   "cell_type": "code",
   "execution_count": null,
   "id": "8b74ce73",
   "metadata": {},
   "outputs": [],
   "source": [
    "import pandas as pd\n",
    "import MySQLdb\n",
    "import requests\n",
    "import matplotlib.pyplot as plt\n",
    "import scienceplots\n",
    "import numpy as np\n",
    "import os\n",
    "\n",
    "from Bio import SeqIO\n",
    "from sklearn.model_selection import train_test_split"
   ]
  },
  {
   "cell_type": "markdown",
   "id": "e5d24286",
   "metadata": {},
   "source": [
    "https://academic.oup.com/plphys/article/170/4/2172/6114303\n",
    "\n",
    "Baseline Expression Data:\n",
    "\n",
    "- SRP041022: data from time course development of synthetic hexaploid wheat\n",
    "- ERP004714: data from Chinese Spring time course development\n",
    "  \n",
    "External Factors:\n",
    "- SRP022869: septoria infected seedlings\n",
    "- SRP041017: stripe and powdery mildew time course infection\n",
    "\n",
    "For each dataset, check which samples are replicates for what condition! This is important!\n",
    "\n",
    "For SRP041022, samples SRR1222460, SRR1222455, SRR1222450, SRR1222448, SRR1222456 are all hexaploid, from different progeny (self generations), containg RNA-seq data from grains 11 days after flowering."
   ]
  },
  {
   "cell_type": "code",
   "execution_count": null,
   "id": "c384a22f",
   "metadata": {},
   "outputs": [],
   "source": [
    "\n",
    "\n",
    "db = MySQLdb.connect(host='mysql-eg-publicsql.ebi.ac.uk',\n",
    "                     port=4157,\n",
    "                     user='anonymous',\n",
    "                     database='triticum_aestivum_core_61_114_4')\n",
    "\n",
    "cursor = db.cursor()"
   ]
  },
  {
   "cell_type": "code",
   "execution_count": null,
   "id": "f4370015",
   "metadata": {},
   "outputs": [],
   "source": [
    "server = \"https://rest.ensembl.org\"\n"
   ]
  },
  {
   "cell_type": "markdown",
   "id": "36a58df7",
   "metadata": {},
   "source": [
    "Read in wheat expression data"
   ]
  },
  {
   "cell_type": "code",
   "execution_count": null,
   "id": "8b7ab6b5",
   "metadata": {},
   "outputs": [],
   "source": [
    "sample_matrix = pd.read_csv('/home/iantsang/plant_hack_2025/SRP041022_tpm.tsv', delimiter='\\t')\n",
    "\n",
    "sample_matrix = sample_matrix[['gene', 'SRR1222460', 'SRR1222455', 'SRR1222450', 'SRR1222448', 'SRR1222456']] # subset only columns with seed data 11 days after flowering\n",
    "\n",
    "sample_matrix['Mean_TPM'] = sample_matrix.iloc[:, [1,2,3,4,5]].mean(axis=1) # calculate row means\n",
    "sample_matrix['Log2NormTPM'] = np.log2(sample_matrix['Mean_TPM'] + 1) # calculate log2norm TPM\n",
    "sample_matrix['Chromosome'] = [i.split('02')[0].split('CS')[1] for i in list(sample_matrix['gene'])] # assign chromosomes\n",
    "\n",
    "sample_matrix = sample_matrix.drop(sample_matrix[sample_matrix['Mean_TPM'] < 3].index) # filter rows for low mean TPM\n",
    "sample_matrix = sample_matrix.drop(sample_matrix[sample_matrix['Chromosome'] == 'U'].index) # drop U chr\n",
    "sample_matrix = sample_matrix[~sample_matrix['gene'].str.contains('LC')] # drop LC genes\n",
    "\n",
    "\n",
    "sample_matrix = sample_matrix.sample(frac=0.1, random_state=42) # random subset \n",
    "\n",
    "gene_list = sample_matrix['gene'].to_list()\n",
    "\n",
    "gene_list_chunked = [gene_list[i:i+50] for i in range(0, len(gene_list), 49)] # split gene list into chunks of 50 genes for API call\n"
   ]
  },
  {
   "cell_type": "code",
   "execution_count": null,
   "id": "d342fcf3",
   "metadata": {},
   "outputs": [],
   "source": [
    "for index, subset in enumerate(gene_list_chunked):\n",
    "        \n",
    "    with open('cds.fa', 'a') as out_file:\n",
    "\n",
    "        gene_input = ['\"{}\"'.format(id) for id in gene_list_chunked[index]] \n",
    "        gene_input = '{ \"ids\" : [' + ', '.join(gene_input) + ']}' \n",
    "\n",
    "        r = requests.post(f\"{server}/sequence/id/{gene_input}?type-cds\", headers={ \"Content-Type\": \"text/x-fasta\"}, data=gene_input) #! cdna will include UTRs, may be interesting to test!\n",
    "\n",
    "        # print(r.text)\n",
    "        out_file.write(r.text)"
   ]
  },
  {
   "cell_type": "code",
   "execution_count": null,
   "id": "dabc64d9",
   "metadata": {},
   "outputs": [],
   "source": [
    "with open('cds.fa', 'r') as out_file:\n",
    "    content = out_file.readlines()\n",
    "\n",
    "with open('cds_transcribed.fa', 'w') as out_file:\n",
    "    for line in content:\n",
    "        if line.startswith('>'):\n",
    "            out_file.write(f'{line}')\n",
    "            continue\n",
    "        line = ['U' if i == 'T' else i for i in line if not i.startswith('>')]\n",
    "        line = ''.join(line).rstrip()\n",
    "        out_file.write(f'{line}\\n')"
   ]
  },
  {
   "cell_type": "code",
   "execution_count": null,
   "id": "2a10dfb6",
   "metadata": {},
   "outputs": [],
   "source": [
    "r = requests.get(f'{server}/lookup/id/{gene_list_chunked[0][0]}?expand=1;', headers={'Content-Type': 'application/json'})\n",
    "\n",
    "print(repr(r.json()))"
   ]
  },
  {
   "cell_type": "code",
   "execution_count": null,
   "id": "eb536096",
   "metadata": {},
   "outputs": [],
   "source": [
    "query = \"\"\"\n",
    "select description, stable_id\n",
    "from gene\n",
    "where description is not null;\n",
    "\"\"\"\n",
    "\n",
    "\n",
    "cursor.execute(query)\n",
    "\n",
    "res = cursor.fetchall()\n",
    "\n",
    "annotation_df = pd.DataFrame(res, columns=['Annotation', 'Gene_ID'])\n",
    "genes_w_annotations = annotation_df[annotation_df['Gene_ID'].isin(gene_list)]"
   ]
  },
  {
   "cell_type": "code",
   "execution_count": null,
   "id": "6666922c",
   "metadata": {},
   "outputs": [],
   "source": [
    "domain_query = \"\"\" \n",
    "        SELECT \n",
    "            gene.stable_id AS gene_id,\n",
    "            protein_feature.hit_name AS pfam_name,\n",
    "            protein_feature.hit_description AS domain_name\n",
    "        FROM gene \n",
    "            JOIN transcript USING (gene_id)\n",
    "            JOIN translation USING (transcript_id)\n",
    "            JOIN protein_feature USING (translation_id)\n",
    "        WHERE gene.stable_id = %s\n",
    "        AND protein_feature.hit_description IS NOT NULL\n",
    "        AND gene.canonical_transcript_id=transcript.transcript_id\n",
    "        AND protein_feature.hit_name rlike 'PF'; \n",
    "\"\"\""
   ]
  },
  {
   "cell_type": "code",
   "execution_count": null,
   "id": "548f5005",
   "metadata": {},
   "outputs": [],
   "source": [
    "wheat_pfam_df = pd.DataFrame()\n",
    "\n",
    "for gene in gene_list:\n",
    "    cursor.execute(domain_query, (gene,))\n",
    "\n",
    "    res = list(cursor.fetchall())\n",
    "    if len(res) > 0:\n",
    "        df = pd.DataFrame(res)\n",
    "        \n",
    "        wheat_pfam_df = pd.concat([wheat_pfam_df, df])\n",
    "\n",
    "\n",
    "wheat_pfam_df.to_csv('pfams.csv', columns=['Index','Gene_ID','PFAM_ID','Description'])\n",
    "\n"
   ]
  },
  {
   "cell_type": "code",
   "execution_count": null,
   "id": "9c3d5999",
   "metadata": {},
   "outputs": [],
   "source": [
    "#Format = sequence, expression value, dataset, split\n",
    "\n",
    "seq_df = pd.DataFrame(columns=['gene', 'mRNA_Seq'])\n",
    "\n",
    "with open('cds_transcribed.fa', 'r') as transcribed_fasta:\n",
    "    fasta = SeqIO.parse(transcribed_fasta, format='fasta')\n",
    "\n",
    "    for record in fasta:\n",
    "        name, seq = record.id.replace('.', ''), record.seq\n",
    "        df = pd.DataFrame([[name, ''.join(list(seq))]], columns=['gene', 'mRNA_Seq'])\n",
    "        seq_df = pd.concat([seq_df, df], ignore_index=True)\n",
    "        "
   ]
  },
  {
   "cell_type": "code",
   "execution_count": null,
   "id": "b2bb5441",
   "metadata": {},
   "outputs": [],
   "source": [
    "wheat_df = sample_matrix.merge(seq_df, how='inner', on='gene')\n",
    "wheat_df['dataset'] = 'grain_11_day_post_flowering'\n",
    "wheat_df = wheat_df[['gene', 'Log2NormTPM', 'mRNA_Seq', 'dataset']]\n",
    "\n",
    "\n",
    "wheat_df"
   ]
  },
  {
   "cell_type": "code",
   "execution_count": null,
   "id": "5f67040c",
   "metadata": {},
   "outputs": [],
   "source": [
    "train, test = train_test_split(wheat_df, test_size=0.2)\n",
    "\n",
    "train, val = train_test_split(train, test_size=0.15)\n"
   ]
  }
 ],
 "metadata": {
  "language_info": {
   "name": "python"
  }
 },
 "nbformat": 4,
 "nbformat_minor": 5
}
